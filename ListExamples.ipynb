{
 "cells": [
  {
   "cell_type": "markdown",
   "metadata": {},
   "source": [
    "# Class 31 - `List` Basics Examples  \n",
    "**COMP130 - Introduction to Computing**  \n",
    "**Dickinson College**  "
   ]
  },
  {
   "cell_type": "markdown",
   "metadata": {},
   "source": [
    "### Python's `List` Object\n",
    "\n",
    "A `List` is a comma delimited *sequence* of values (elements, items)."
   ]
  },
  {
   "cell_type": "code",
   "execution_count": 57,
   "metadata": {},
   "outputs": [
    {
     "name": "stdout",
     "output_type": "stream",
     "text": [
      "['Liverpool', 'Leicester City', 'Chelsea', 'Manchester City', 'Sheffield United']\n"
     ]
    }
   ],
   "source": [
    "table=['Liverpool', 'Leicester City', 'Chelsea', 'Manchester City', 'Sheffield United']\n",
    "print(table)"
   ]
  },
  {
   "cell_type": "code",
   "execution_count": 76,
   "metadata": {},
   "outputs": [
    {
     "name": "stdout",
     "output_type": "stream",
     "text": [
      "[34, 26, 26, 25, 17]\n"
     ]
    }
   ],
   "source": [
    "points=[34, 26, 26, 25, 17]\n",
    "print(points)"
   ]
  },
  {
   "cell_type": "markdown",
   "metadata": {},
   "source": [
    "The elements of a `List` are often all of the same type, but they can be any type. "
   ]
  },
  {
   "cell_type": "code",
   "execution_count": 78,
   "metadata": {},
   "outputs": [
    {
     "name": "stdout",
     "output_type": "stream",
     "text": [
      "['Liverpool', 34, 'Leicester City', 26, 'Chelsea', 26, 'Manchester City', 25, 'Sheffield United', 17]\n"
     ]
    }
   ],
   "source": [
    "mixed = ['Liverpool', 34, 'Leicester City', 26, 'Chelsea', 26, 'Manchester City', 25, 'Sheffield United', 17]\n",
    "print(mixed)"
   ]
  },
  {
   "cell_type": "markdown",
   "metadata": {},
   "source": [
    "A `List` can even have other lists as elements. These are called *nested* lists. "
   ]
  },
  {
   "cell_type": "code",
   "execution_count": 59,
   "metadata": {},
   "outputs": [
    {
     "name": "stdout",
     "output_type": "stream",
     "text": [
      "[['Manchester United', 'Brighton'], ['West Ham', 'Tottenham'], ['Arsenal', 'South Hampton']]\n"
     ]
    }
   ],
   "source": [
    "matches=[['Manchester United', 'Brighton'], ['West Ham', 'Tottenham'], ['Arsenal', 'South Hampton']]\n",
    "print(matches)"
   ]
  },
  {
   "cell_type": "markdown",
   "metadata": {},
   "source": [
    "### Accessing `List` Elements"
   ]
  },
  {
   "cell_type": "markdown",
   "metadata": {},
   "source": [
    "Elements in a `List` are accessed using `[ ]` in the same way characters in a `String` are accessed."
   ]
  },
  {
   "cell_type": "code",
   "execution_count": 60,
   "metadata": {},
   "outputs": [
    {
     "name": "stdout",
     "output_type": "stream",
     "text": [
      "['Liverpool', 'Leicester City', 'Chelsea', 'Manchester City', 'Sheffield United']\n",
      "Liverpool\n",
      "Manchester City\n"
     ]
    }
   ],
   "source": [
    "table=['Liverpool', 'Leicester City', 'Chelsea', 'Manchester City', 'Sheffield United']\n",
    "print(table[0])\n",
    "print(table[3])"
   ]
  },
  {
   "cell_type": "markdown",
   "metadata": {},
   "source": [
    "A `List` can be *sliced* in the same way a `String` can be sliced."
   ]
  },
  {
   "cell_type": "code",
   "execution_count": 61,
   "metadata": {},
   "outputs": [
    {
     "name": "stdout",
     "output_type": "stream",
     "text": [
      "['Leicester City', 'Chelsea', 'Manchester City']\n",
      "['Liverpool']\n",
      "['Chelsea', 'Manchester City', 'Sheffield United']\n"
     ]
    }
   ],
   "source": [
    "table=['Liverpool', 'Leicester City', 'Chelsea', 'Manchester City', 'Sheffield United']\n",
    "print(table[1:4])\n",
    "print(table[:1])\n",
    "print(table[2:])"
   ]
  },
  {
   "cell_type": "markdown",
   "metadata": {},
   "source": [
    "### Accessing Elements in a Nested `List`\n",
    "\n",
    "Elements in nested lists are accessed in a similar way."
   ]
  },
  {
   "cell_type": "code",
   "execution_count": 66,
   "metadata": {},
   "outputs": [
    {
     "name": "stdout",
     "output_type": "stream",
     "text": [
      "[['Manchester United', 'Brighton'], ['West Ham', 'Tottenham'], ['Arsenal', 'South Hampton']]\n",
      "['West Ham', 'Tottenham']\n",
      "West Ham\n",
      "Tottenham\n"
     ]
    }
   ],
   "source": [
    "matches=[['Manchester United', 'Brighton'], ['West Ham', 'Tottenham'], ['Arsenal', 'South Hampton']]\n",
    "\n",
    "m1 = matches[1]\n",
    "print(m1)\n",
    "\n",
    "print(m1[0])\n",
    "print(m1[1])"
   ]
  },
  {
   "cell_type": "code",
   "execution_count": 67,
   "metadata": {},
   "outputs": [
    {
     "name": "stdout",
     "output_type": "stream",
     "text": [
      "West Ham\n",
      "Tottenham\n"
     ]
    }
   ],
   "source": [
    "print(matches[1][0])\n",
    "print(matches[1][1])"
   ]
  },
  {
   "cell_type": "markdown",
   "metadata": {},
   "source": [
    "### Traversing Lists"
   ]
  },
  {
   "cell_type": "markdown",
   "metadata": {},
   "source": [
    "We can traverse a `List` in a number of different ways."
   ]
  },
  {
   "cell_type": "code",
   "execution_count": 96,
   "metadata": {},
   "outputs": [],
   "source": [
    "table=['Liverpool', 'Leicester City', 'Chelsea', 'Manchester City', 'Sheffield United']"
   ]
  },
  {
   "cell_type": "markdown",
   "metadata": {},
   "source": [
    "We can traverse it using a `while` loop:"
   ]
  },
  {
   "cell_type": "code",
   "execution_count": 83,
   "metadata": {},
   "outputs": [],
   "source": [
    "def print_table(table):\n",
    "    index = 0\n",
    "    while index < len(table):\n",
    "        print(str(index + 1) + '. ' + table[index])\n",
    "        index = index + 1"
   ]
  },
  {
   "cell_type": "code",
   "execution_count": 97,
   "metadata": {},
   "outputs": [
    {
     "name": "stdout",
     "output_type": "stream",
     "text": [
      "1. Liverpool\n",
      "2. Leicester City\n",
      "3. Chelsea\n",
      "4. Manchester City\n",
      "5. Sheffield United\n"
     ]
    }
   ],
   "source": [
    "print_table(table)"
   ]
  },
  {
   "cell_type": "markdown",
   "metadata": {},
   "source": [
    "We can traverse it using a `for in` loop like we used to traverse the characters in a `String`:"
   ]
  },
  {
   "cell_type": "code",
   "execution_count": 89,
   "metadata": {},
   "outputs": [],
   "source": [
    "def print_table(table):\n",
    "    index = 0\n",
    "    for team in table:\n",
    "        print(str(index + 1) + '. ' + table[index])\n",
    "        index = index + 1"
   ]
  },
  {
   "cell_type": "code",
   "execution_count": 91,
   "metadata": {},
   "outputs": [
    {
     "name": "stdout",
     "output_type": "stream",
     "text": [
      "1. Liverpool\n",
      "2. Leicester City\n",
      "3. Chelsea\n",
      "4. Manchester City\n",
      "5. Sheffield United\n"
     ]
    }
   ],
   "source": [
    "print_table(table)"
   ]
  },
  {
   "cell_type": "markdown",
   "metadata": {},
   "source": [
    "And there is one more way that we haven't used before... by using the loop variable of a `for in range` loop.   Each time through the loop, the variable `index` takes on the next value in the range 0 up to but not including `len(table)`.  That is the first time the loop body executes, `index` is 0, the next time, `index` is 1 and so on until all of the values in the range have been used.\n",
    "\n",
    "It is worth noting that this is simply a shortcut to doing what was done in the two examples just above."
   ]
  },
  {
   "cell_type": "code",
   "execution_count": 94,
   "metadata": {},
   "outputs": [],
   "source": [
    "def print_table(table):\n",
    "    for index in range(len(table)):\n",
    "        print(str(index + 1) + '. ' + table[index])"
   ]
  },
  {
   "cell_type": "code",
   "execution_count": 95,
   "metadata": {},
   "outputs": [
    {
     "name": "stdout",
     "output_type": "stream",
     "text": [
      "1. Liverpool\n",
      "2. Leicester City\n",
      "3. Chelsea\n",
      "4. Manchester City\n",
      "5. Sheffield United\n"
     ]
    }
   ],
   "source": [
    "print_table(table)"
   ]
  },
  {
   "cell_type": "markdown",
   "metadata": {},
   "source": [
    "### `List`s are *Mutable*"
   ]
  },
  {
   "cell_type": "markdown",
   "metadata": {},
   "source": [
    "A `List` is *mutable*. This means that unlike the characters in a `String` which cannot be changed (immutable), the elements of a `List` can be changed."
   ]
  },
  {
   "cell_type": "markdown",
   "metadata": {},
   "source": [
    "A value in a `List` can be *replaced*:"
   ]
  },
  {
   "cell_type": "code",
   "execution_count": 74,
   "metadata": {},
   "outputs": [
    {
     "name": "stdout",
     "output_type": "stream",
     "text": [
      "['Liverpool', 'Leicester City', 'Chelsea', 'Manchester City', 'Sheffield United']\n",
      "['Liverpool', 'Leicester City', 'Chelsea', 'Manchester City', 'Arsenal']\n"
     ]
    }
   ],
   "source": [
    "table=['Liverpool', 'Leicester City', 'Chelsea', 'Manchester City', 'Sheffield United']\n",
    "\n",
    "print(table)\n",
    "table[4] = 'Arsenal'\n",
    "print(table)"
   ]
  },
  {
   "cell_type": "markdown",
   "metadata": {},
   "source": [
    "What happened when we tried that with a `String`?"
   ]
  },
  {
   "cell_type": "markdown",
   "metadata": {},
   "source": [
    "### `List` Object Methods - Appending to a `List`"
   ]
  },
  {
   "cell_type": "markdown",
   "metadata": {},
   "source": [
    "A `List` is an object. Thus, methods in the `List` class can be used to modify the list.\n",
    "\n",
    "For example, the `append` method attaches a new element to the end of the `List`.  There are many other `List` methods that can be used to modify the list.  The exercises will give you practice with some of them."
   ]
  },
  {
   "cell_type": "code",
   "execution_count": 75,
   "metadata": {},
   "outputs": [
    {
     "name": "stdout",
     "output_type": "stream",
     "text": [
      "['Liverpool', 'Leicester City', 'Chelsea', 'Manchester City', 'Arsenal']\n",
      "['Liverpool', 'Leicester City', 'Chelsea', 'Manchester City', 'Arsenal', 'Wolves']\n"
     ]
    }
   ],
   "source": [
    "print(table)\n",
    "table.append('Wolves')\n",
    "print(table)"
   ]
  },
  {
   "cell_type": "markdown",
   "metadata": {},
   "source": [
    "There are lots of other methods in the `List` class. There is a link to the documentation for the `List` methods on the course home page. You'll work with some of them in the exercises."
   ]
  }
 ],
 "metadata": {
  "kernelspec": {
   "display_name": "Python 3",
   "language": "python",
   "name": "python3"
  },
  "language_info": {
   "codemirror_mode": {
    "name": "ipython",
    "version": 3
   },
   "file_extension": ".py",
   "mimetype": "text/x-python",
   "name": "python",
   "nbconvert_exporter": "python",
   "pygments_lexer": "ipython3",
   "version": "3.7.3"
  }
 },
 "nbformat": 4,
 "nbformat_minor": 2
}
