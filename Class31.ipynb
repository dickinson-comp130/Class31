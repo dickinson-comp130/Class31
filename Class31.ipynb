{
 "cells": [
  {
   "cell_type": "markdown",
   "metadata": {},
   "source": [
    "# Class 31 - `List` Basics\n",
    "**COMP130 - Introduction to Computing**  \n",
    "**Dickinson College**  "
   ]
  },
  {
   "cell_type": "markdown",
   "metadata": {},
   "source": [
    "### Names:"
   ]
  },
  {
   "cell_type": "markdown",
   "metadata": {},
   "source": [
    "__Solutions__"
   ]
  },
  {
   "cell_type": "markdown",
   "metadata": {},
   "source": [
    "### Accessing `List` Elements"
   ]
  },
  {
   "cell_type": "markdown",
   "metadata": {},
   "source": [
    "__Q1:__ Consider the definition of a `List` and the statements below:\n",
    "```Python\n",
    "days = ['Sun','Mon','Tues','Wed','Thur', 'Fri', 'Sat']\n",
    "\n",
    "days[1:6]\n",
    "days[2]\n",
    "days[0]\n",
    "days[5:]\n",
    "days[:3]\n",
    "```\n",
    "\n",
    "Identify the statement from above that has each of the following values:\n",
    "  1. `'Sun'`\n",
    "  1. `'Tues'`\n",
    "  1. `['Sun', 'Mon', 'Tues']`\n",
    "  1. `['Fri', 'Sat']`\n",
    "  1. `['Mon','Tues','Wed','Thur', 'Fri']`"
   ]
  },
  {
   "cell_type": "markdown",
   "metadata": {},
   "source": [
    "1. `days[0]` has the value `Sun`\n",
    "1. `days[2]` has the value `Tues`\n",
    "1. `days[:3]` has the value `['Sun', 'Mon', 'Tues']`\n",
    "1. `days[5:]` has the value `['Fri', 'Sat']`\n",
    "1. `days[1:6]` has the value `['Mon','Tues','Wed','Thur', 'Fri']`"
   ]
  },
  {
   "cell_type": "markdown",
   "metadata": {},
   "source": [
    "__Q2:__ Consider the following definition of the `List` named `Primes`:\n",
    "```Python\n",
    "primes = [2, 3, 5, 7, 11, 13, 17, 23]\n",
    "```\n",
    "\n",
    "Give a statement using `List` indices and slices that will have each of the values below.  Be sure to try any you are unsure of.\n",
    "  1. `7`\n",
    "  1. `23`\n",
    "  1. `[3, 5, 7]`\n",
    "  1. `[11, 13, 17, 23`]\n",
    "  1. `[2, 3, 5]`"
   ]
  },
  {
   "cell_type": "code",
   "execution_count": 1,
   "metadata": {},
   "outputs": [],
   "source": [
    "primes = [2, 3, 5, 7, 11, 13, 17, 23]"
   ]
  },
  {
   "cell_type": "code",
   "execution_count": 3,
   "metadata": {},
   "outputs": [
    {
     "data": {
      "text/plain": [
       "7"
      ]
     },
     "execution_count": 3,
     "metadata": {},
     "output_type": "execute_result"
    }
   ],
   "source": [
    "# 1\n",
    "primes[3]"
   ]
  },
  {
   "cell_type": "code",
   "execution_count": 5,
   "metadata": {},
   "outputs": [
    {
     "data": {
      "text/plain": [
       "23"
      ]
     },
     "execution_count": 5,
     "metadata": {},
     "output_type": "execute_result"
    }
   ],
   "source": [
    "# 2\n",
    "primes[7]"
   ]
  },
  {
   "cell_type": "code",
   "execution_count": 7,
   "metadata": {},
   "outputs": [
    {
     "data": {
      "text/plain": [
       "[3, 5, 7]"
      ]
     },
     "execution_count": 7,
     "metadata": {},
     "output_type": "execute_result"
    }
   ],
   "source": [
    "# 3\n",
    "primes[1:4]"
   ]
  },
  {
   "cell_type": "code",
   "execution_count": 9,
   "metadata": {},
   "outputs": [
    {
     "data": {
      "text/plain": [
       "[11, 13, 17, 23]"
      ]
     },
     "execution_count": 9,
     "metadata": {},
     "output_type": "execute_result"
    }
   ],
   "source": [
    "# 4\n",
    "primes[4:]"
   ]
  },
  {
   "cell_type": "code",
   "execution_count": 10,
   "metadata": {},
   "outputs": [
    {
     "data": {
      "text/plain": [
       "[2, 3, 5]"
      ]
     },
     "execution_count": 10,
     "metadata": {},
     "output_type": "execute_result"
    }
   ],
   "source": [
    "# 5 \n",
    "primes[:3]"
   ]
  },
  {
   "cell_type": "markdown",
   "metadata": {},
   "source": [
    "__Q3:__  The built-in `len` function that we used with `String` values also works with `List` values.  Build an example below that creates a `List` and uses `len` to assign the number of elements in the `List` to a variable and then print out the value of that variable."
   ]
  },
  {
   "cell_type": "code",
   "execution_count": 11,
   "metadata": {},
   "outputs": [
    {
     "name": "stdout",
     "output_type": "stream",
     "text": [
      "8\n"
     ]
    }
   ],
   "source": [
    "primes = [2, 3, 5, 7, 11, 13, 17, 23]\n",
    "num_primes = len(primes)\n",
    "print(num_primes)"
   ]
  },
  {
   "cell_type": "markdown",
   "metadata": {},
   "source": [
    "__Q4:__ Assume that a `List` named `stuff` has been defined.  Write statements that have the value of:\n",
    "  1. The last element in `stuff`\n",
    "  1. The first half of the elements in `stuff`\n",
    "  1. The last half of the elements in `stuff`\n",
    "  1. `stuff` without the first and last elements\n",
    "  \n",
    "Hint: You'll need to use `len`.  Be sure to try any you are unsure of."
   ]
  },
  {
   "cell_type": "code",
   "execution_count": 12,
   "metadata": {},
   "outputs": [],
   "source": [
    "stuff = ['this', 'is', 'some', 'stuff', 'in', 'a', 'list']"
   ]
  },
  {
   "cell_type": "code",
   "execution_count": 14,
   "metadata": {},
   "outputs": [
    {
     "data": {
      "text/plain": [
       "'list'"
      ]
     },
     "execution_count": 14,
     "metadata": {},
     "output_type": "execute_result"
    }
   ],
   "source": [
    "# 1\n",
    "stuff[len(stuff)-1]"
   ]
  },
  {
   "cell_type": "code",
   "execution_count": 19,
   "metadata": {},
   "outputs": [
    {
     "data": {
      "text/plain": [
       "['this', 'is', 'some']"
      ]
     },
     "execution_count": 19,
     "metadata": {},
     "output_type": "execute_result"
    }
   ],
   "source": [
    "# 2  - Note: here half is rounded down with an odd number of elements.\n",
    "stuff[:len(stuff)//2]"
   ]
  },
  {
   "cell_type": "code",
   "execution_count": 24,
   "metadata": {},
   "outputs": [
    {
     "data": {
      "text/plain": [
       "['stuff', 'in', 'a', 'list']"
      ]
     },
     "execution_count": 24,
     "metadata": {},
     "output_type": "execute_result"
    }
   ],
   "source": [
    "# 3 - Note: here half is rounded up with an odd number of elements.\n",
    "stuff[len(stuff)//2:]"
   ]
  },
  {
   "cell_type": "code",
   "execution_count": 23,
   "metadata": {},
   "outputs": [
    {
     "data": {
      "text/plain": [
       "['is', 'some', 'stuff', 'in', 'a']"
      ]
     },
     "execution_count": 23,
     "metadata": {},
     "output_type": "execute_result"
    }
   ],
   "source": [
    "# 4 \n",
    "stuff[1:len(stuff)-1]"
   ]
  },
  {
   "cell_type": "markdown",
   "metadata": {},
   "source": [
    "### Modifying `List` Elements"
   ]
  },
  {
   "cell_type": "markdown",
   "metadata": {},
   "source": [
    "__Q5:__ Consider the following `List` named `colors`:\n",
    "```Python\n",
    "colors=['Red', 'Green', 'Blue', 'Yellow', 'Purple', 'Black', 'White']\n",
    "```\n",
    "\n",
    "Show what the `colors` list will look like after each of the statements below is executed.  \n",
    "\n",
    "Assume that each statement operates on the list above independent of the other statements.  I.e. The effects of the statements are not cumulative.\n",
    "\n",
    "  1. `colors[4] = 'Violet'`\n",
    "  1. `colors[0] = 'Crimson'`\n",
    "  1. `colors[1:3] = ['Emerald', 'Sky']`"
   ]
  },
  {
   "cell_type": "markdown",
   "metadata": {},
   "source": [
    "1. `colors=['Red', 'Green', 'Blue', 'Yellow', 'Violet', 'Black', 'White']`\n",
    "1. `colors=['Crimson', 'Green', 'Blue', 'Yellow', 'Purple', 'Black', 'White']`\n",
    "1. `colors=['Red', 'Emerald', 'Sky', 'Yellow', 'Purple', 'Black', 'White']`"
   ]
  },
  {
   "cell_type": "markdown",
   "metadata": {},
   "source": [
    "__Q6:__ This question also uses the `List` named `colors` from __Q5__.  While it may seem surprising, it is possible to assign a values to a slice when the value does not have the same size as the slice. \n",
    "\n",
    "\n",
    "Show what the `colors` list will look like after each of the statements below is executed.  \n",
    "\n",
    "Assume that each statement operates on the list above independent of the other statements.  I.e. The effects of the statements are not cumulative.\n",
    "\n",
    "  1. `colors[0:3] = 'Primary'`\n",
    "  1. `colors[5:6] = ['Black', 'Midnight', 'Onyx']`\n",
    "  1. `colors[5] = ['Black', 'Midnight', 'Onyx']`\n",
    "  \n",
    "Be sure to try any you are unsure of and study them to understand how they work."
   ]
  },
  {
   "cell_type": "markdown",
   "metadata": {},
   "source": [
    "1. `colors=['Primary', 'Yellow', 'Purple', 'Black', 'White']`\n",
    "1. `colors=['Red', 'Green', 'Blue', 'Yellow', 'Purple', 'Black', 'Midnight', 'Onyx', 'White']`\n",
    "1. `colors=['Red', 'Green', 'Blue', 'Yellow', 'Purple', ['Black', 'Midnight', 'Onyx'], 'White']`"
   ]
  },
  {
   "cell_type": "markdown",
   "metadata": {},
   "source": [
    "__Q7:__ What is the difference in the effect of statement #2 and statement #3 on `colors` in __Q6__?"
   ]
  },
  {
   "cell_type": "markdown",
   "metadata": {},
   "source": [
    "In statement #2, the index of colors being changed is a slice.  When this is the case, the slice is replaced with the elements of the list. I.e. 'Black', 'Midnight' and 'Onyx' are inserted into the list `colors`.  \n",
    "\n",
    "In statement #3, the index is a specific location.  When this is the case, the list provided is inserted into `colors` as a list. I.e. element 5 of `colors` becomes the entire list `['Black', 'Midnight', 'Onyx']`."
   ]
  },
  {
   "cell_type": "markdown",
   "metadata": {},
   "source": [
    "__Q8:__ Consider the `List` named `cars` below:\n",
    "```Python\n",
    "cars = ['volt', 'tesla', 'prius', 'highlander', 'camry', 'F150', 'mustang']\n",
    "```\n",
    "\n",
    "Write statements that perform each of the operations below. \n",
    "\n",
    "Assume that each statement operates on the list above independent of the other statements.  I.e. The effects of the statements are not cumulative.\n",
    "\n",
    "  1. Replace `'camry'` with `'corolla'` \n",
    "  1. Replace both `'volt'` and `'tesla'` with `'electric'` (electric should appear twice).\n",
    "  1. Replace `tesla` with `['3', 'X', 'S']`\n",
    "  \n",
    "Be sure to try any you are unsure of."
   ]
  },
  {
   "cell_type": "code",
   "execution_count": 29,
   "metadata": {},
   "outputs": [
    {
     "data": {
      "text/plain": [
       "['volt', 'tesla', 'prius', 'highlander', 'corolla', 'F150', 'mustang']"
      ]
     },
     "execution_count": 29,
     "metadata": {},
     "output_type": "execute_result"
    }
   ],
   "source": [
    "# 1\n",
    "cars = ['volt', 'tesla', 'prius', 'highlander', 'camry', 'F150', 'mustang']\n",
    "cars[4] = 'corolla'\n",
    "cars"
   ]
  },
  {
   "cell_type": "code",
   "execution_count": 34,
   "metadata": {},
   "outputs": [
    {
     "data": {
      "text/plain": [
       "['electric', 'prius', 'highlander', 'camry', 'F150', 'mustang']"
      ]
     },
     "execution_count": 34,
     "metadata": {},
     "output_type": "execute_result"
    }
   ],
   "source": [
    "# 2\n",
    "cars = ['volt', 'tesla', 'prius', 'highlander', 'camry', 'F150', 'mustang']\n",
    "cars[0:2] = ['electric']\n",
    "cars"
   ]
  },
  {
   "cell_type": "code",
   "execution_count": 35,
   "metadata": {},
   "outputs": [
    {
     "data": {
      "text/plain": [
       "['volt', ['3', 'X', 'S'], 'prius', 'highlander', 'camry', 'F150', 'mustang']"
      ]
     },
     "execution_count": 35,
     "metadata": {},
     "output_type": "execute_result"
    }
   ],
   "source": [
    "# 3\n",
    "cars = ['volt', 'tesla', 'prius', 'highlander', 'camry', 'F150', 'mustang']\n",
    "cars[1] = ['3', 'X', 'S']\n",
    "cars"
   ]
  },
  {
   "cell_type": "markdown",
   "metadata": {},
   "source": [
    "### Nested `List` Elements"
   ]
  },
  {
   "cell_type": "markdown",
   "metadata": {},
   "source": [
    "Consider the following *nested* `List`:"
   ]
  },
  {
   "cell_type": "code",
   "execution_count": 51,
   "metadata": {
    "deletable": false,
    "editable": false
   },
   "outputs": [],
   "source": [
    "courses=[[130, [[1, 'Fruchter'], [2, 'Braught']]], [132, [1, 'Siddiqui']], [232, [1, 'Skalak']]]"
   ]
  },
  {
   "cell_type": "markdown",
   "metadata": {},
   "source": [
    "This nested list represents course and sections offerings. For example, the nested list `[132, [1, 'Siddiqui']]` indicates that for the course `132` there is one section number `1` being taught by Prof. Siddiqui. The nested lists `[130, [[1, 'Fruchter'], [2, 'Braught']]]` indicates that for `130` there are two sections `1` and `2` being taught by Profs. Fruchter and Braught respectively."
   ]
  },
  {
   "cell_type": "markdown",
   "metadata": {},
   "source": [
    "__Q9:__ Write a statement that prints the number of differnt courses (not sections) being offered.  Hint: Use `len`."
   ]
  },
  {
   "cell_type": "code",
   "execution_count": 52,
   "metadata": {},
   "outputs": [
    {
     "name": "stdout",
     "output_type": "stream",
     "text": [
      "3\n"
     ]
    }
   ],
   "source": [
    "print(len(courses))"
   ]
  },
  {
   "cell_type": "markdown",
   "metadata": {},
   "source": [
    "__Q10:__ Write a statement that prints the number of sections of 130.  Hint: Use `len` on the list of sections nested in the list for 130."
   ]
  },
  {
   "cell_type": "code",
   "execution_count": 53,
   "metadata": {},
   "outputs": [
    {
     "name": "stdout",
     "output_type": "stream",
     "text": [
      "2\n"
     ]
    }
   ],
   "source": [
    "print(len(courses[1]))"
   ]
  },
  {
   "cell_type": "markdown",
   "metadata": {},
   "source": [
    "__Q11:__ Write a statement that accesses and prints the name of the instructor for 232."
   ]
  },
  {
   "cell_type": "code",
   "execution_count": 54,
   "metadata": {},
   "outputs": [
    {
     "name": "stdout",
     "output_type": "stream",
     "text": [
      "Skalak\n"
     ]
    }
   ],
   "source": [
    "print(courses[2][1][1])"
   ]
  },
  {
   "cell_type": "markdown",
   "metadata": {},
   "source": [
    "__Q12:__ Write a statement that changes the professor for 132 to be `'MacCormick'`."
   ]
  },
  {
   "cell_type": "code",
   "execution_count": 55,
   "metadata": {},
   "outputs": [
    {
     "data": {
      "text/plain": [
       "[[130, [[1, 'Fruchter'], [2, 'Braught']]],\n",
       " [132, [1, 'MacCormick']],\n",
       " [232, [1, 'Skalak']]]"
      ]
     },
     "execution_count": 55,
     "metadata": {},
     "output_type": "execute_result"
    }
   ],
   "source": [
    "courses[1][1][1] = 'MacCormick'\n",
    "courses"
   ]
  },
  {
   "cell_type": "markdown",
   "metadata": {},
   "source": [
    "__Q13:__ Write a statement that changes the name of the instructor for section 2 of 130 to be `'Tucker'`."
   ]
  },
  {
   "cell_type": "code",
   "execution_count": 56,
   "metadata": {},
   "outputs": [
    {
     "data": {
      "text/plain": [
       "[[130, [[1, 'Fruchter'], [2, 'Tucker']]],\n",
       " [132, [1, 'MacCormick']],\n",
       " [232, [1, 'Skalak']]]"
      ]
     },
     "execution_count": 56,
     "metadata": {},
     "output_type": "execute_result"
    }
   ],
   "source": [
    "courses[0][1][1][1] = 'Tucker'\n",
    "courses"
   ]
  },
  {
   "cell_type": "markdown",
   "metadata": {},
   "source": [
    "### `List` Operations"
   ]
  },
  {
   "cell_type": "markdown",
   "metadata": {},
   "source": [
    "__Q14:__ The *concatenation* (`+`) and *replication* (`*`) operators that we used with `String` values also work with `List` values.  Consider the lists shown below:\n",
    "```Python\n",
    "start=['a', 'b']\n",
    "end=['x', 'y', 'z']\n",
    "```\n",
    "\n",
    "Use the above `List` values and the *concatenation* (`+`) and *replication* (`*`) operators to give statements that will generate each of the following `List`s:\n",
    "\n",
    "  1. `['a', 'b', 'x', 'y', 'z']`\n",
    "  1. `['a', 'b', 'a', 'b', 'a', 'b']`\n",
    "  1. `['x', 'y', 'z', 'a', 'b', 'x', 'y', 'z', 'a', 'b']`\n",
    "  1. `['y', 'z', 'y', 'z', 'y', 'z']`"
   ]
  },
  {
   "cell_type": "code",
   "execution_count": 58,
   "metadata": {},
   "outputs": [],
   "source": [
    "start=['a', 'b']\n",
    "end=['x', 'y', 'z']"
   ]
  },
  {
   "cell_type": "code",
   "execution_count": 60,
   "metadata": {},
   "outputs": [
    {
     "data": {
      "text/plain": [
       "['a', 'b', 'x', 'y', 'z']"
      ]
     },
     "execution_count": 60,
     "metadata": {},
     "output_type": "execute_result"
    }
   ],
   "source": [
    "# 1\n",
    "start + end"
   ]
  },
  {
   "cell_type": "code",
   "execution_count": 62,
   "metadata": {},
   "outputs": [
    {
     "data": {
      "text/plain": [
       "['a', 'b', 'a', 'b', 'a', 'b']"
      ]
     },
     "execution_count": 62,
     "metadata": {},
     "output_type": "execute_result"
    }
   ],
   "source": [
    "# 2\n",
    "start * 3"
   ]
  },
  {
   "cell_type": "code",
   "execution_count": 64,
   "metadata": {},
   "outputs": [
    {
     "data": {
      "text/plain": [
       "['x', 'y', 'z', 'a', 'b', 'x', 'y', 'z', 'a', 'b']"
      ]
     },
     "execution_count": 64,
     "metadata": {},
     "output_type": "execute_result"
    }
   ],
   "source": [
    "# 3 \n",
    "(end + start) * 2"
   ]
  },
  {
   "cell_type": "code",
   "execution_count": 65,
   "metadata": {},
   "outputs": [
    {
     "data": {
      "text/plain": [
       "['y', 'z', 'y', 'z', 'y', 'z']"
      ]
     },
     "execution_count": 65,
     "metadata": {},
     "output_type": "execute_result"
    }
   ],
   "source": [
    "# 4\n",
    "end[1:] * 3"
   ]
  },
  {
   "cell_type": "markdown",
   "metadata": {},
   "source": [
    "### Using `List` Methods"
   ]
  },
  {
   "cell_type": "markdown",
   "metadata": {},
   "source": [
    "__Q15:__ Use the link on the course homepage to read about the `append` and the `extend` methods of the `List` class.  What do these methods do?  What is the difference between these two methods?"
   ]
  },
  {
   "cell_type": "markdown",
   "metadata": {},
   "source": [
    "The `append` method appends *a single value* (possibly a list) to the end of the list on which it is invoked.  For example: `my_list.append(4)` will put the value 4 on the end of `my_list`. Similarly, `my_list.append([5,7,9])` will add the list `[5,7,9]` as final element in `my_list` as a nested list."
   ]
  },
  {
   "cell_type": "code",
   "execution_count": 67,
   "metadata": {},
   "outputs": [
    {
     "data": {
      "text/plain": [
       "[1, 3, 5, 4, [5, 7, 9]]"
      ]
     },
     "execution_count": 67,
     "metadata": {},
     "output_type": "execute_result"
    }
   ],
   "source": [
    "my_list = [1, 3, 5]\n",
    "my_list.append(4)\n",
    "my_list.append([5,7,9])\n",
    "my_list"
   ]
  },
  {
   "cell_type": "markdown",
   "metadata": {},
   "source": [
    "The `extend` method appends *the elements of* a list to the end of the list on which it is invoked.  For example, `my_list.extend([2,6,8])` will add 5 and then 7 and then 9 to the end of my list (not as a nested list)."
   ]
  },
  {
   "cell_type": "code",
   "execution_count": 68,
   "metadata": {},
   "outputs": [
    {
     "data": {
      "text/plain": [
       "[1, 3, 5, 4, [5, 7, 9], 2, 6, 8]"
      ]
     },
     "execution_count": 68,
     "metadata": {},
     "output_type": "execute_result"
    }
   ],
   "source": [
    "my_list.extend([2,6,8])\n",
    "my_list"
   ]
  },
  {
   "cell_type": "markdown",
   "metadata": {},
   "source": [
    "__Q16:__ Write statements using the variables defined below along with the `append` and `extend` methods to produce a `List` named `elements` that holds the first 10 chemical elements in order (i.e. H, He, Li, Be, B, C, N, O, F, Ne)."
   ]
  },
  {
   "cell_type": "code",
   "execution_count": 70,
   "metadata": {
    "deletable": false,
    "editable": false
   },
   "outputs": [],
   "source": [
    "elements = []\n",
    "hydrogen = 'H'\n",
    "helium = ['He']\n",
    "r2_left = ['Li', 'Be']\n",
    "r2_right = ['B', 'C', 'N', 'O', 'F', 'Ne']"
   ]
  },
  {
   "cell_type": "code",
   "execution_count": 71,
   "metadata": {},
   "outputs": [
    {
     "data": {
      "text/plain": [
       "['H', 'He', 'Li', 'Be', 'B', 'C', 'N', 'O', 'F', 'Ne']"
      ]
     },
     "execution_count": 71,
     "metadata": {},
     "output_type": "execute_result"
    }
   ],
   "source": [
    "elements.append(hydrogen)\n",
    "elements.extend(helium)\n",
    "elements.extend(r2_left)\n",
    "elements.extend(r2_right)\n",
    "elements"
   ]
  },
  {
   "cell_type": "markdown",
   "metadata": {},
   "source": [
    "__Q17:__ Read about the `insert` method of the `List` class. Then write a series of statements using `insert` to transform the `List` given below into the full list of planets (e.g. `['Mercury', 'Venus', 'Earth', 'Mars', 'Jupiter', 'Saturn', 'Uranus', 'Neptune', 'Pluto']`)  Yes, I am including Pluto for now... we'll *deplanetize* it again in __Q18__.\n"
   ]
  },
  {
   "cell_type": "code",
   "execution_count": 82,
   "metadata": {
    "deletable": false,
    "editable": false
   },
   "outputs": [],
   "source": [
    "planets=['Mercury', 'Earth', 'Mars', 'Uranus', 'Pluto']"
   ]
  },
  {
   "cell_type": "code",
   "execution_count": 83,
   "metadata": {},
   "outputs": [
    {
     "data": {
      "text/plain": [
       "['Mercury',\n",
       " 'Venus',\n",
       " 'Earth',\n",
       " 'Mars',\n",
       " 'Jupyter',\n",
       " 'Saturn',\n",
       " 'Uranus',\n",
       " 'Neptune',\n",
       " 'Pluto']"
      ]
     },
     "execution_count": 83,
     "metadata": {},
     "output_type": "execute_result"
    }
   ],
   "source": [
    "planets.insert(1,'Venus')\n",
    "planets.insert(4,'Jupyter')  # ;)\n",
    "planets.insert(5,'Saturn')\n",
    "planets.insert(7,'Neptune')\n",
    "planets"
   ]
  },
  {
   "cell_type": "markdown",
   "metadata": {},
   "source": [
    "__Q18__ Read about the `remove` method of the `list` class. Write a statement that uses the `remove` method to remove `Pluto` from the list of planets constructed in your answer to __Q17__."
   ]
  },
  {
   "cell_type": "code",
   "execution_count": 84,
   "metadata": {},
   "outputs": [
    {
     "data": {
      "text/plain": [
       "['Mercury', 'Venus', 'Earth', 'Mars', 'Jupyter', 'Saturn', 'Uranus', 'Neptune']"
      ]
     },
     "execution_count": 84,
     "metadata": {},
     "output_type": "execute_result"
    }
   ],
   "source": [
    "planets.remove('Pluto')\n",
    "planets"
   ]
  },
  {
   "cell_type": "markdown",
   "metadata": {},
   "source": [
    "__Q19:__ Read about the `pop` method of the `List` class. Use the `pop` method to remove the planets on either side of Earth.  Use the return value from `pop` to print the names of these planets."
   ]
  },
  {
   "cell_type": "code",
   "execution_count": 85,
   "metadata": {},
   "outputs": [
    {
     "name": "stdout",
     "output_type": "stream",
     "text": [
      "Venus\n",
      "Mars\n"
     ]
    },
    {
     "data": {
      "text/plain": [
       "['Mercury', 'Earth', 'Jupyter', 'Saturn', 'Uranus', 'Neptune']"
      ]
     },
     "execution_count": 85,
     "metadata": {},
     "output_type": "execute_result"
    }
   ],
   "source": [
    "before_earth = planets.pop(1)\n",
    "print(before_earth)\n",
    "after_earth = planets.pop(2)\n",
    "print(after_earth)\n",
    "\n",
    "planets"
   ]
  },
  {
   "cell_type": "markdown",
   "metadata": {},
   "source": [
    "### Using `List`s"
   ]
  },
  {
   "cell_type": "markdown",
   "metadata": {},
   "source": [
    "__Q20:__ Write a function that takes one numeric argument from 1 to 7, representing the day of the week with Sunday being 1 and Saturday being 7, and returns the name of the day."
   ]
  },
  {
   "cell_type": "code",
   "execution_count": 86,
   "metadata": {},
   "outputs": [
    {
     "name": "stdout",
     "output_type": "stream",
     "text": [
      "Sunday\n",
      "Wednesday\n",
      "Saturday\n"
     ]
    }
   ],
   "source": [
    "def day_of_week(day_num):\n",
    "    days=['','Sunday','Monday','Tuesday','Wednesday','Thursday','Friday','Saturday']\n",
    "    return days[day_num]\n",
    "\n",
    "print(day_of_week(1))\n",
    "print(day_of_week(4))\n",
    "print(day_of_week(7))"
   ]
  },
  {
   "cell_type": "markdown",
   "metadata": {},
   "source": [
    "__Q21:__ In the dice game [Yahtzee](http://www.diceagegame.com/yahtzee/) a player rolls 5 six-sided dice on the first roll of each turn.  Write a function named `yahtzee_roll` that returns a `List` containing five values representing a roll of 5 six-sided dice.  \n"
   ]
  },
  {
   "cell_type": "code",
   "execution_count": 96,
   "metadata": {},
   "outputs": [
    {
     "name": "stdout",
     "output_type": "stream",
     "text": [
      "[6, 5, 2, 1, 6]\n"
     ]
    }
   ],
   "source": [
    "import random\n",
    "\n",
    "def yahtzee_roll():\n",
    "    roll = []\n",
    "    for die in range(5):\n",
    "        roll.append(random.randint(1,6))\n",
    "        \n",
    "    return roll\n",
    "\n",
    "print(yahtzee_roll())"
   ]
  },
  {
   "cell_type": "markdown",
   "metadata": {
    "deletable": false,
    "editable": false
   },
   "source": [
    "__Q22:__ After the initial roll, a player in Yahtzee may re-roll any or all of the 5 dice.  Write a function named `yahtzee_reroll` that accepts two `List`s as arguments.  The first `List` is the `List` of 5 dice that were rolled previously (e.g. the `List` returned from `yahtzee_roll`).  The second `List` is a `List` of the indices of the die or dice to be rerolled (e.g [1, 3, 4] will reroll three dice, the ones at index 1, 3 and 4).  The values of the dice that are not rerolled are unchanged.  The `yahtzee_reroll` function should return the `List` of the 5 dice values after the reroll.\n",
    "\n",
    "Hint: Use a loop to traverse the list of dice to reroll and for each one of them replace the value in the list of 5 dice with a new roll. Then return the list of the 5 dice."
   ]
  },
  {
   "cell_type": "code",
   "execution_count": 107,
   "metadata": {},
   "outputs": [
    {
     "name": "stdout",
     "output_type": "stream",
     "text": [
      "[1, 5, 4, 1, 3]\n"
     ]
    }
   ],
   "source": [
    "def yahtzee_reroll(orig_roll, die_to_reroll):\n",
    "    for die in die_to_reroll:\n",
    "        orig_roll[die] = random.randint(1,6)\n",
    "        \n",
    "roll = [1,1,1,1,1]\n",
    "yahtzee_reroll(roll, [1,2,4])\n",
    "print(roll)"
   ]
  }
 ],
 "metadata": {
  "kernelspec": {
   "display_name": "Python 3",
   "language": "python",
   "name": "python3"
  },
  "language_info": {
   "codemirror_mode": {
    "name": "ipython",
    "version": 3
   },
   "file_extension": ".py",
   "mimetype": "text/x-python",
   "name": "python",
   "nbconvert_exporter": "python",
   "pygments_lexer": "ipython3",
   "version": "3.7.3"
  }
 },
 "nbformat": 4,
 "nbformat_minor": 2
}
