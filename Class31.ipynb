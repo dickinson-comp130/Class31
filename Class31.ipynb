{
 "cells": [
  {
   "cell_type": "markdown",
   "metadata": {},
   "source": [
    "# Class 31 - `List` Basics\n",
    "**COMP130 - Introduction to Computing**  \n",
    "**Dickinson College**  "
   ]
  },
  {
   "cell_type": "markdown",
   "metadata": {},
   "source": [
    "### Names:"
   ]
  },
  {
   "cell_type": "markdown",
   "metadata": {},
   "source": []
  },
  {
   "cell_type": "markdown",
   "metadata": {},
   "source": [
    "### Accessing `List` Elements"
   ]
  },
  {
   "cell_type": "markdown",
   "metadata": {},
   "source": [
    "__Q1:__ Consider the definition of a `List` and the statements below:\n",
    "```Python\n",
    "days = ['Sun','Mon','Tues','Wed','Thur', 'Fri', 'Sat']\n",
    "\n",
    "days[1:6]\n",
    "days[2]\n",
    "days[0]\n",
    "days[5:]\n",
    "days[:3]\n",
    "```\n",
    "\n",
    "Identify the statement from above that has each of the following values:\n",
    "  1. `'Sun'`\n",
    "  1. `'Tues'`\n",
    "  1. `['Sun', 'Mon', 'Tues']`\n",
    "  1. `['Fri', 'Sat']`\n",
    "  1. `['Mon','Tues','Wed','Thur', 'Fri']`"
   ]
  },
  {
   "cell_type": "markdown",
   "metadata": {},
   "source": []
  },
  {
   "cell_type": "markdown",
   "metadata": {},
   "source": [
    "__Q2:__ Consider the following definition of the `List` named `Primes`:\n",
    "```Python\n",
    "primes = [2, 3, 5, 7, 11, 13, 17, 23]\n",
    "```\n",
    "\n",
    "Give a statement using `List` indices and slices that will have each of the values below.  Be sure to try any you are unsure of.\n",
    "  1. `7`\n",
    "  1. `23`\n",
    "  1. `[3, 5, 7]`\n",
    "  1. `[11, 13, 17, 23`]\n",
    "  1. `[2, 3, 5]`"
   ]
  },
  {
   "cell_type": "markdown",
   "metadata": {},
   "source": []
  },
  {
   "cell_type": "markdown",
   "metadata": {},
   "source": [
    "__Q3:__  The built-in `len` function that we used with `String` values also works with `List` values.  Build an example below that creates a `List` and uses `len` to assign the number of elements in the `List` to a variable and then print out the value of that variable."
   ]
  },
  {
   "cell_type": "code",
   "execution_count": null,
   "metadata": {},
   "outputs": [],
   "source": []
  },
  {
   "cell_type": "markdown",
   "metadata": {},
   "source": [
    "__Q4:__ Assume that a `List` named `stuff` has been defined.  Write statements that have the value of:\n",
    "  1. The last element in `stuff`\n",
    "  1. The first half of the elements in `stuff`\n",
    "  1. The last half of the elements in `stuff`\n",
    "  1. `stuff` without the first and last elements\n",
    "  \n",
    "Hint: You'll need to use `len`.  Be sure to try any you are unsure of."
   ]
  },
  {
   "cell_type": "code",
   "execution_count": null,
   "metadata": {},
   "outputs": [],
   "source": []
  },
  {
   "cell_type": "markdown",
   "metadata": {},
   "source": [
    "### Modifying `List` Elements"
   ]
  },
  {
   "cell_type": "markdown",
   "metadata": {},
   "source": [
    "__Q5:__ Consider the following `List` named `colors`:\n",
    "```Python\n",
    "colors=['Red', 'Green', 'Blue', 'Yellow', 'Purple', 'Black', 'White']\n",
    "```\n",
    "\n",
    "Show what the `colors` list will look like after each of the statements below is executed.  \n",
    "\n",
    "Assume that each statement operates on the list above independent of the other statements.  I.e. The effects of the statements are not cumulative.\n",
    "\n",
    "  1. `colors[4] = 'Violet'`\n",
    "  1. `colors[0] = 'Crimson'`\n",
    "  1. `colors[1:3] = ['Emerald', 'Sky']`"
   ]
  },
  {
   "cell_type": "markdown",
   "metadata": {},
   "source": []
  },
  {
   "cell_type": "markdown",
   "metadata": {},
   "source": [
    "__Q6:__ This question also uses the `List` named `colors` from __Q5__.  While it may seem surprising, it is possible to assign a values to a slice when the value does not have the same size as the slice. \n",
    "\n",
    "\n",
    "Show what the `colors` list will look like after each of the statements below is executed.  \n",
    "\n",
    "Assume that each statement operates on the list above independent of the other statements.  I.e. The effects of the statements are not cumulative.\n",
    "\n",
    "  1. `colors[0:3] = 'Primary'`\n",
    "  1. `colors[5:6] = ['Black', 'Midnight', 'Onyx']`\n",
    "  1. `colors[5] = ['Black', 'Midnight', 'Onyx']`\n",
    "  \n",
    "Be sure to try any you are unsure of and study them to understand how they work."
   ]
  },
  {
   "cell_type": "markdown",
   "metadata": {},
   "source": []
  },
  {
   "cell_type": "markdown",
   "metadata": {},
   "source": [
    "__Q7:__ What is the difference in the effect of statement #2 and statement #3 on `colors` in __Q6__?"
   ]
  },
  {
   "cell_type": "markdown",
   "metadata": {},
   "source": []
  },
  {
   "cell_type": "markdown",
   "metadata": {},
   "source": [
    "__Q8:__ Consider the `List` named `cars` below:\n",
    "```Python\n",
    "cars = ['volt', 'tesla', 'prius', 'highlander', 'camry', 'F150', 'mustang']\n",
    "```\n",
    "\n",
    "Write statements that perform each of the operations below. \n",
    "\n",
    "Assume that each statement operates on the list above independent of the other statements.  I.e. The effects of the statements are not cumulative.\n",
    "\n",
    "  1. Replace `'camry'` with `'corolla'` \n",
    "  1. Replace both `'volt'` and `'tesla'` with `'electric'` (electric should appear twice).\n",
    "  1. Replace `tesla` with `['3', 'X', 'S']`\n",
    "  \n",
    "Be sure to try any you are unsure of."
   ]
  },
  {
   "cell_type": "markdown",
   "metadata": {},
   "source": []
  },
  {
   "cell_type": "markdown",
   "metadata": {},
   "source": [
    "### Nested `List` Elements"
   ]
  },
  {
   "cell_type": "markdown",
   "metadata": {},
   "source": [
    "Consider the following *nested* `List`:"
   ]
  },
  {
   "cell_type": "code",
   "execution_count": 28,
   "metadata": {
    "deletable": false,
    "editable": false
   },
   "outputs": [],
   "source": [
    "courses=[[130, [[1, 'Fruchter'], [2, 'Braught']]], [132, [1, 'Siddiqui']], [232, [1, 'Skalak']]]"
   ]
  },
  {
   "cell_type": "markdown",
   "metadata": {},
   "source": [
    "This nested list represents course and sections offerings. For example, the nested list `[132, [1, 'Siddiqui']]` indicates that for the course `132` there is one section number `1` being taught by Prof. Siddiqui. The nested lists `[130, [[1, 'Fruchter'], [2, 'Braught']]]` indicates that for `130` there are two sections `1` and `2` being taught by Profs. Fruchter and Braught respectively."
   ]
  },
  {
   "cell_type": "markdown",
   "metadata": {},
   "source": [
    "__Q9:__ Write a statement that prints the number of differnt courses (not sections) being offered.  Hint: Use `len`."
   ]
  },
  {
   "cell_type": "code",
   "execution_count": null,
   "metadata": {},
   "outputs": [],
   "source": []
  },
  {
   "cell_type": "markdown",
   "metadata": {},
   "source": [
    "__Q10:__ Write a statement that prints the number of sections of 130.  Hint: Use `len` on the list of sections nested in the list for 130."
   ]
  },
  {
   "cell_type": "code",
   "execution_count": null,
   "metadata": {},
   "outputs": [],
   "source": []
  },
  {
   "cell_type": "markdown",
   "metadata": {},
   "source": [
    "__Q11:__ Write a statement that accesses and prints the name of the instructor for 232."
   ]
  },
  {
   "cell_type": "code",
   "execution_count": null,
   "metadata": {},
   "outputs": [],
   "source": []
  },
  {
   "cell_type": "markdown",
   "metadata": {},
   "source": [
    "__Q12:__ Write a statement that changes the professor for 132 to be `'MacCormick'`."
   ]
  },
  {
   "cell_type": "code",
   "execution_count": null,
   "metadata": {},
   "outputs": [],
   "source": []
  },
  {
   "cell_type": "markdown",
   "metadata": {},
   "source": [
    "__Q13:__ Write a statement that changes the name of the instructor for section 2 of 130 to be `'Tucker'`."
   ]
  },
  {
   "cell_type": "code",
   "execution_count": null,
   "metadata": {},
   "outputs": [],
   "source": []
  },
  {
   "cell_type": "markdown",
   "metadata": {},
   "source": [
    "### `List` Operations"
   ]
  },
  {
   "cell_type": "markdown",
   "metadata": {},
   "source": [
    "__Q14:__ The *concatenation* (`+`) and *replication* (`*`) operators that we used with `String` values also work with `List` values.  Consider the lists shown below:\n",
    "```Python\n",
    "start=['a', 'b']\n",
    "end=['x', 'y', 'z']\n",
    "```\n",
    "\n",
    "Use the above `List` values and the *concatenation* (`+`) and *replication* (`*`) operators to give statements that will generate each of the following `List`s:\n",
    "\n",
    "  1. `['a', 'b', 'x', 'y', 'z']`\n",
    "  1. `['a', 'b', 'a', 'b', 'a', 'b']`\n",
    "  1. `['x', 'y', 'z', 'a', 'b', 'x', 'y', 'z', 'a', 'b']`\n",
    "  1. `['y', 'z', 'y', 'z', 'y', 'z']`"
   ]
  },
  {
   "cell_type": "markdown",
   "metadata": {},
   "source": []
  },
  {
   "cell_type": "markdown",
   "metadata": {},
   "source": [
    "### Using `List` Methods"
   ]
  },
  {
   "cell_type": "markdown",
   "metadata": {},
   "source": [
    "__Q15:__ Use the link on the course homepage to read about the `append` and the `extend` methods of the `List` class.  What do these methods do?  What is the difference between these two methods?"
   ]
  },
  {
   "cell_type": "markdown",
   "metadata": {},
   "source": []
  },
  {
   "cell_type": "markdown",
   "metadata": {},
   "source": [
    "__Q16:__ Write statements using the variables defined below along with the `append` and `extend` methods to produce a `List` named `elements` that holds the first 10 chemical elements in order (i.e. H, He, Li, Be, B, C, N, O, F, Ne)."
   ]
  },
  {
   "cell_type": "code",
   "execution_count": 17,
   "metadata": {
    "deletable": false,
    "editable": false
   },
   "outputs": [],
   "source": [
    "elements = []\n",
    "hydrogen = 'H'\n",
    "helium = ['He']\n",
    "r2_left = ['Li', 'Be']\n",
    "r2_right = ['B', 'C', 'N', 'O', 'F', 'Ne']"
   ]
  },
  {
   "cell_type": "code",
   "execution_count": null,
   "metadata": {},
   "outputs": [],
   "source": []
  },
  {
   "cell_type": "markdown",
   "metadata": {},
   "source": [
    "__Q17:__ Read about the `insert` method of the `List` class. Then write a series of statements using `insert` to transform the `List` given below into the full list of planets (e.g. `['Mercury', 'Venus', 'Earth', 'Mars', 'Jupiter', 'Saturn', 'Uranus', 'Neptune', 'Pluto']`)  Yes, I am including Pluto for now... we'll *deplanetize* it again in __Q18__.\n"
   ]
  },
  {
   "cell_type": "code",
   "execution_count": 31,
   "metadata": {
    "deletable": false,
    "editable": false
   },
   "outputs": [],
   "source": [
    "planets=['Mercury', 'Earth', 'Mars', 'Uranus', 'Pluto']"
   ]
  },
  {
   "cell_type": "code",
   "execution_count": null,
   "metadata": {},
   "outputs": [],
   "source": []
  },
  {
   "cell_type": "markdown",
   "metadata": {},
   "source": [
    "__Q18__ Read about the `remove` method of the `list` class. Write a statement that uses the `remove` method to remove `Pluto` from the list of planets constructed in your answer to __Q17__."
   ]
  },
  {
   "cell_type": "code",
   "execution_count": null,
   "metadata": {},
   "outputs": [],
   "source": []
  },
  {
   "cell_type": "markdown",
   "metadata": {},
   "source": [
    "__Q19:__ Read about the `pop` method of the `List` class. Use the `pop` method to remove the planets on either side of Earth.  Use the return value from `pop` to print the names of these planets."
   ]
  },
  {
   "cell_type": "code",
   "execution_count": null,
   "metadata": {},
   "outputs": [],
   "source": []
  },
  {
   "cell_type": "markdown",
   "metadata": {},
   "source": [
    "### Using `List`s"
   ]
  },
  {
   "cell_type": "markdown",
   "metadata": {},
   "source": [
    "__Q20:__ Write a function that takes one numeric argument from 1 to 7, representing the day of the week with Sunday being 1 and Saturday being 7, and returns the name of the day."
   ]
  },
  {
   "cell_type": "code",
   "execution_count": null,
   "metadata": {},
   "outputs": [],
   "source": []
  },
  {
   "cell_type": "markdown",
   "metadata": {},
   "source": [
    "__Q21:__ In the dice game [Yahtzee](http://www.diceagegame.com/yahtzee/) a player rolls 5 six-sided die on the first roll of each turn.  Write a function named `yahtzee_roll` that returns a `List` containing five values representing a roll of 5 six-sided die.  \n"
   ]
  },
  {
   "cell_type": "code",
   "execution_count": null,
   "metadata": {},
   "outputs": [],
   "source": []
  },
  {
   "cell_type": "markdown",
   "metadata": {},
   "source": [
    "__Q22:__ After the initial roll, a player in Yahtzee may re-roll any or all of the 5 die.  Write a function named `yahtzee_reroll` that accepts two `List`s as arguments.  The first `List` is the `List` of 5 die that were rolled previously (e.g. the `List` returned from `yahtzee_roll`).  The second `List` is a `List` of the indices of the die to be rerolled (e.g [1, 3, 4] will reroll three die, the ones at index 1, 3 and 4).  The values of the die that are not rerolled are unchanged.  The `yahtzee_reroll` function should return the `List` of the 5 die values after the reroll.\n",
    "\n",
    "Hint: Use a loop to traverse the list of die to reroll and for each one of them replace the value in the list of 5 die with a new roll. Then return the list of the 5 die."
   ]
  },
  {
   "cell_type": "code",
   "execution_count": null,
   "metadata": {},
   "outputs": [],
   "source": []
  }
 ],
 "metadata": {
  "kernelspec": {
   "display_name": "Python 3",
   "language": "python",
   "name": "python3"
  },
  "language_info": {
   "codemirror_mode": {
    "name": "ipython",
    "version": 3
   },
   "file_extension": ".py",
   "mimetype": "text/x-python",
   "name": "python",
   "nbconvert_exporter": "python",
   "pygments_lexer": "ipython3",
   "version": "3.7.3"
  }
 },
 "nbformat": 4,
 "nbformat_minor": 2
}
